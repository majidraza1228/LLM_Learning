{
  "nbformat": 4,
  "nbformat_minor": 0,
  "metadata": {
    "colab": {
      "provenance": [],
      "machine_shape": "hm",
      "gpuType": "A100",
      "authorship_tag": "ABX9TyO466AAsJj1P0DR5KwLIfcB",
      "include_colab_link": true
    },
    "kernelspec": {
      "name": "python3",
      "display_name": "Python 3"
    },
    "language_info": {
      "name": "python"
    },
    "accelerator": "GPU"
  },
  "cells": [
    {
      "cell_type": "markdown",
      "metadata": {
        "id": "view-in-github",
        "colab_type": "text"
      },
      "source": [
        "<a href=\"https://colab.research.google.com/github/majidraza1228/LLM/blob/LLM_Tech_Class/AIAgent.ipynb\" target=\"_parent\"><img src=\"https://colab.research.google.com/assets/colab-badge.svg\" alt=\"Open In Colab\"/></a>"
      ]
    },
    {
      "cell_type": "code",
      "execution_count": null,
      "metadata": {
        "id": "Yi9HNHRSfWpD"
      },
      "outputs": [],
      "source": [
        "!pip install llama-index-core\n",
        "!pip install llama-index-readers-file\n",
        "!pip install llama-index-embeddings-openai\n",
        "!pip install llama-index-llms-llama-api\n",
        "!pip install 'crewai[tools]'"
      ]
    },
    {
      "cell_type": "code",
      "source": [
        "import os\n",
        "from crewai import Agent, Task, Crew, Process\n",
        "from crewai_tools import LlamaIndexTool\n",
        "from llama_index.core import SimpleDirectoryReader, VectorStoreIndex\n",
        "from llama_index.llms.openai import OpenAI\n"
      ],
      "metadata": {
        "id": "6gKG4S18fuWI"
      },
      "execution_count": 2,
      "outputs": []
    },
    {
      "cell_type": "code",
      "source": [
        "\n",
        "reader = SimpleDirectoryReader(input_files=[\"finance.csv\"])\n",
        "\n",
        "docs = reader.load_data()\n",
        "\n",
        "docs[1].get_content()\n",
        "\n",
        "from google.colab import userdata\n",
        "os.environ['OPENAI_API_KEY']=userdata.get('OPENAI_API_KEY')\n",
        "\n",
        "llm = OpenAI(model=\"gpt-4o\")\n",
        "index = VectorStoreIndex.from_documents(docs)\n",
        "query_engine = index.as_query_engine(similarity_top_k=5, llm=llm)\n",
        "\n",
        "query_tool = LlamaIndexTool.from_query_engine(\n",
        "    query_engine,\n",
        "\n",
        "    name=\"Finance Query Tool\",\n",
        "    description=\"Use this tool to lookup the financial data of products and their sales\",\n",
        ")\n",
        "\n",
        "query_tool.args_schema.schema()\n",
        "\n",
        "\n",
        "\n",
        "researcher = Agent(\n",
        "    role=\"Senior Market Analyst\",\n",
        "    goal=\"Uncover insights about product sales trends\",\n",
        "    backstory=\"\"\"You work at a market research firm.\n",
        "  Your goal is to understand sales patterns across different product categories.\"\"\",\n",
        "\n",
        "    verbose=True,\n",
        "    allow_delegation=False,\n",
        "    tools=[query_tool],\n",
        ")\n",
        "writer = Agent(\n",
        "    role=\"Product Content Specialist\",\n",
        "    goal=\"Craft compelling content on product trends\",\n",
        "    backstory=\"\"\"You are a renowned Content Specialist, known for your insightful and engaging articles.\n",
        "  You transform complex sales data into compelling narratives.\"\"\",\n",
        "    verbose=True,\n",
        "    allow_delegation=False,\n",
        ")\n",
        "\n",
        "# Create tasks for your agents\n",
        "\n",
        "task1 = Task(\n",
        "    description=\"\"\"Analyze the sales data of top 5 products in the last quarter.\"\"\",\n",
        "    expected_output=\"Detailed sales report with trends and insights\",\n",
        "    agent=researcher,\n",
        ")\n",
        "\n",
        "task2 = Task(\n",
        "    description=\"\"\"Using the insights provided, develop an engaging blog\n",
        "  post that highlights the top-selling products and their market trends.\n",
        "  Your post should be informative yet accessible, catering to a casual audience.\n",
        "  Make it sound cool, avoid complex words.\"\"\",\n",
        "    expected_output=\"Full blog post of at least 4 paragraphs\",\n",
        "    agent=writer,\n",
        "\n",
        ")\n",
        "\n",
        "# Instantiate your crew with a sequential process\n",
        "crew = Crew(\n",
        "    agents=[researcher, writer],\n",
        "    tasks=[task1, task2],\n",
        "    verbose=2,  # You can set it to 1 or 2 to different logging levels\n",
        ")\n",
        "\n",
        "result = crew.kickoff()\n",
        "\n",
        "print(\"######################\")\n",
        "print(result)"
      ],
      "metadata": {
        "id": "lvD-ydCnhYGe"
      },
      "execution_count": null,
      "outputs": []
    },
    {
      "cell_type": "code",
      "source": [],
      "metadata": {
        "id": "MjpfOMmwhVRT"
      },
      "execution_count": null,
      "outputs": []
    }
  ]
}