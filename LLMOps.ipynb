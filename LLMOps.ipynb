{
  "nbformat": 4,
  "nbformat_minor": 0,
  "metadata": {
    "colab": {
      "provenance": [],
      "machine_shape": "hm",
      "gpuType": "A100",
      "authorship_tag": "ABX9TyN89D6ouaps2oHgsbhkLA2n",
      "include_colab_link": true
    },
    "kernelspec": {
      "name": "python3",
      "display_name": "Python 3"
    },
    "language_info": {
      "name": "python"
    },
    "accelerator": "GPU"
  },
  "cells": [
    {
      "cell_type": "markdown",
      "metadata": {
        "id": "view-in-github",
        "colab_type": "text"
      },
      "source": [
        "<a href=\"https://colab.research.google.com/github/majidraza1228/LLM/blob/LLM_Tech_Class/LLMOps.ipynb\" target=\"_parent\"><img src=\"https://colab.research.google.com/assets/colab-badge.svg\" alt=\"Open In Colab\"/></a>"
      ]
    },
    {
      "cell_type": "code",
      "execution_count": null,
      "metadata": {
        "id": "qT3XSGfS_irk"
      },
      "outputs": [],
      "source": [
        "!pip install -q condacolab\n",
        "import condacolab\n",
        "condacolab.install() # expect a kernel restart"
      ]
    },
    {
      "cell_type": "code",
      "source": [
        "from google.colab import userdata\n",
        "userdata.get('API_Key')"
      ],
      "metadata": {
        "id": "JWyI-3i_BHEf"
      },
      "execution_count": null,
      "outputs": []
    },
    {
      "cell_type": "code",
      "source": [
        "!conda create -n agentops python=3.11 -y && conda activate agentops\n",
        "!pip install pyautogen agentops"
      ],
      "metadata": {
        "id": "gTS1QkKiC3BJ"
      },
      "execution_count": null,
      "outputs": []
    },
    {
      "cell_type": "code",
      "source": [
        "!pip install pyautogen agentops"
      ],
      "metadata": {
        "id": "0zTsOEo7D6Z3"
      },
      "execution_count": null,
      "outputs": []
    },
    {
      "cell_type": "code",
      "source": [
        "!conda update -n base -c conda-forge conda"
      ],
      "metadata": {
        "id": "GLXE5XnXDpqt"
      },
      "execution_count": null,
      "outputs": []
    },
    {
      "cell_type": "code",
      "source": [
        "!conda activate agentops  # Activate the agentops environment\n",
        "!pip install -U cffi      # Upgrade cffi to ensure compatibility"
      ],
      "metadata": {
        "id": "OexdyLsYEJ7p"
      },
      "execution_count": null,
      "outputs": []
    },
    {
      "cell_type": "code",
      "source": [
        "# Install necessary packages and activate the agentops environment\n",
        "!conda create -n agentops python=3.11 -y && conda activate agentops\n",
        "!pip install pyautogen agentops\n",
        "!pip install -U cffi # Upgrade cffi for potential version conflict resolution\n",
        "\n",
        "# Activate the agentops environment before importing and running the code.\n",
        "!conda activate agentops\n",
        "\n",
        "import agentops\n",
        "import autogen\n",
        "from autogen import ConversableAgent, UserProxyAgent, config_list_from_json\n",
        "from google.colab import userdata\n",
        "\n",
        "agentops.init(api_key=userdata.get('Ag_key'), tags=[\"I live in Monroe NJ\"])\n",
        "\n",
        "import os\n",
        "\n",
        "llm_config = {\n",
        "        \"config_list\": [{\"model\": \"gpt-4\", \"api_key\": userdata.get('API_Key')}],\n",
        "}\n",
        "assistant = autogen.ConversableAgent(\"agent\", llm_config=llm_config)\n",
        "user_proxy = UserProxyAgent(\"user\", code_execution_config=False)\n",
        "\n",
        "agentops.end_session(\"Success\")"
      ],
      "metadata": {
        "id": "Du02SBzsERK7"
      },
      "execution_count": null,
      "outputs": []
    }
  ]
}