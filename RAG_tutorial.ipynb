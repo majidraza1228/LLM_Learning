{
  "nbformat": 4,
  "nbformat_minor": 0,
  "metadata": {
    "colab": {
      "provenance": [],
      "machine_shape": "hm",
      "gpuType": "A100",
      "authorship_tag": "ABX9TyNc+Kqru4OxubXvOnxBxr6e",
      "include_colab_link": true
    },
    "kernelspec": {
      "name": "python3",
      "display_name": "Python 3"
    },
    "language_info": {
      "name": "python"
    },
    "accelerator": "GPU"
  },
  "cells": [
    {
      "cell_type": "markdown",
      "metadata": {
        "id": "view-in-github",
        "colab_type": "text"
      },
      "source": [
        "<a href=\"https://colab.research.google.com/github/majidraza1228/LLM/blob/LLM_Tech_Class/RAG_tutorial.ipynb\" target=\"_parent\"><img src=\"https://colab.research.google.com/assets/colab-badge.svg\" alt=\"Open In Colab\"/></a>"
      ]
    },
    {
      "cell_type": "code",
      "execution_count": 1,
      "metadata": {
        "id": "Cgi2OmlpQEzy"
      },
      "outputs": [],
      "source": [
        "import os\n",
        "from google.colab import userdata\n",
        "os.environ['OPENAI_API_KEY']=userdata.get('OPENAI_API_KEY')\n"
      ]
    },
    {
      "cell_type": "code",
      "source": [
        "!pip install llama-index faiss-cpu pandas python-dotenv openai transformers numpy\n",
        "!pip install llama-index-agent-openai llama-index-cli llama-index-core llama-index-embeddings-openai\n",
        "!pip install llama-index-llms-openai llama-index-program-openai llama-index-question-gen-openai llama-index-readers-file\n",
        "!pip install llama-index-readers-llama-parse llama-index-vector-stores-faiss llama-parse llama-index-indices-managed-llama-cloud\n",
        "\n",
        "from llama_index.core.readers import SimpleDirectoryReader\n",
        "from llama_index.core import Settings\n",
        "from llama_index.llms.openai import OpenAI\n",
        "from llama_index.embeddings.openai import OpenAIEmbedding\n",
        "from llama_index.readers.file import PagedCSVReader\n",
        "from llama_index.vector_stores.faiss import FaissVectorStore\n",
        "from llama_index.core.ingestion import IngestionPipeline\n",
        "from llama_index.core import VectorStoreIndex\n",
        "import faiss\n",
        "import os\n",
        "import pandas as pd\n",
        "\n",
        "from google.colab import userdata"
      ],
      "metadata": {
        "id": "HRwuDEs9QwVT"
      },
      "execution_count": null,
      "outputs": []
    },
    {
      "cell_type": "code",
      "source": [
        "EMBED_DIMENSION=512\n",
        "Settings.llm = OpenAI(model=\"gpt-3.5-turbo\")\n",
        "Settings.embed_model = OpenAIEmbedding(model=\"text-embedding-3-small\", dimensions=EMBED_DIMENSION)\n",
        "\n",
        "file_path = ('/content/test.csv')\n",
        "data = pd.read_csv(file_path)\n",
        "data.head()\n",
        "\n",
        "fais_index = faiss.IndexFlatL2(EMBED_DIMENSION)\n",
        "vector_store = FaissVectorStore(faiss_index=fais_index)"
      ],
      "metadata": {
        "id": "6yeRy22DRI60"
      },
      "execution_count": 3,
      "outputs": []
    },
    {
      "cell_type": "code",
      "source": [
        "csv_reader = PagedCSVReader()\n",
        "\n",
        "reader = SimpleDirectoryReader(\n",
        "    input_files=[file_path],\n",
        "    file_extractor= {\".csv\": csv_reader}\n",
        "    )\n",
        "\n",
        "docs = reader.load_data()\n",
        "\n",
        "print(docs[0].text)\n",
        "\n",
        "pipeline = IngestionPipeline(\n",
        "    vector_store=vector_store,\n",
        "    documents=docs\n",
        ")\n",
        "\n",
        "nodes = pipeline.run()\n",
        "\n",
        "vector_store_index = VectorStoreIndex(nodes)"
      ],
      "metadata": {
        "id": "-423dslOTRR3"
      },
      "execution_count": null,
      "outputs": []
    },
    {
      "cell_type": "code",
      "source": [
        "query_engine = vector_store_index.as_query_engine(similarity_top_k=2)\n",
        "\n",
        "response = query_engine.query(\"Tell me about restaurants?\")\n",
        "response.response"
      ],
      "metadata": {
        "id": "zvw4vmcgTW97"
      },
      "execution_count": null,
      "outputs": []
    }
  ]
}